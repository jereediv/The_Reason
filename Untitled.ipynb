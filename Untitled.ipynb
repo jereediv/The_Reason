{
 "cells": [
  {
   "cell_type": "code",
   "execution_count": 13,
   "id": "3834b314",
   "metadata": {},
   "outputs": [],
   "source": [
    "import pandas as pd\n",
    "import os\n",
    "from pathlib import Path"
   ]
  },
  {
   "cell_type": "code",
   "execution_count": 14,
   "id": "18abf663",
   "metadata": {},
   "outputs": [],
   "source": [
    "df = pd.read_json('JSONS/US_category_id.json')"
   ]
  },
  {
   "cell_type": "code",
   "execution_count": 18,
   "id": "7b9981e5",
   "metadata": {},
   "outputs": [
    {
     "data": {
      "text/plain": [
       "kind     object\n",
       "etag     object\n",
       "items    object\n",
       "dtype: object"
      ]
     },
     "execution_count": 18,
     "metadata": {},
     "output_type": "execute_result"
    }
   ],
   "source": [
    "df.dtypes"
   ]
  },
  {
   "cell_type": "code",
   "execution_count": 24,
   "id": "ba7c3cac",
   "metadata": {},
   "outputs": [],
   "source": [
    "csv=df.to_csv(\"Resources/US_category_id.csv\")"
   ]
  },
  {
   "cell_type": "code",
   "execution_count": 25,
   "id": "416da1ef",
   "metadata": {},
   "outputs": [],
   "source": [
    "df = pd.read_json('JSONS/GB_category_id.json')"
   ]
  },
  {
   "cell_type": "code",
   "execution_count": 26,
   "id": "13f41899",
   "metadata": {},
   "outputs": [],
   "source": [
    "csv=df.to_csv(\"Resources/GB_category_id.csv\")"
   ]
  },
  {
   "cell_type": "code",
   "execution_count": null,
   "id": "34c7e566",
   "metadata": {},
   "outputs": [],
   "source": []
  }
 ],
 "metadata": {
  "kernelspec": {
   "display_name": "Python 3 (ipykernel)",
   "language": "python",
   "name": "python3"
  },
  "language_info": {
   "codemirror_mode": {
    "name": "ipython",
    "version": 3
   },
   "file_extension": ".py",
   "mimetype": "text/x-python",
   "name": "python",
   "nbconvert_exporter": "python",
   "pygments_lexer": "ipython3",
   "version": "3.9.7"
  }
 },
 "nbformat": 4,
 "nbformat_minor": 5
}
