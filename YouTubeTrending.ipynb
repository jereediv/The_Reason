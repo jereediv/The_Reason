{
  "nbformat": 4,
  "nbformat_minor": 0,
  "metadata": {
    "colab": {
      "name": "YouTubeTrending.ipynb",
      "provenance": []
    },
    "kernelspec": {
      "name": "python3",
      "display_name": "Python 3"
    },
    "language_info": {
      "name": "python"
    }
  },
  "cells": [
    {
      "cell_type": "code",
      "execution_count": null,
      "metadata": {
        "colab": {
          "base_uri": "https://localhost:8080/"
        },
        "id": "WO-NqZ0u7iYL",
        "outputId": "bc8a6abd-9a83-4bb3-c710-454456701547"
      },
      "outputs": [
        {
          "output_type": "stream",
          "name": "stdout",
          "text": [
            "Get:1 https://cloud.r-project.org/bin/linux/ubuntu bionic-cran40/ InRelease [3,626 B]\n",
            "Hit:2 http://archive.ubuntu.com/ubuntu bionic InRelease\n",
            "Ign:3 https://developer.download.nvidia.com/compute/machine-learning/repos/ubuntu1804/x86_64  InRelease\n",
            "Get:4 http://ppa.launchpad.net/c2d4u.team/c2d4u4.0+/ubuntu bionic InRelease [15.9 kB]\n",
            "Get:5 https://developer.download.nvidia.com/compute/cuda/repos/ubuntu1804/x86_64  InRelease [1,581 B]\n",
            "Get:6 http://archive.ubuntu.com/ubuntu bionic-updates InRelease [88.7 kB]\n",
            "Hit:7 https://developer.download.nvidia.com/compute/machine-learning/repos/ubuntu1804/x86_64  Release\n",
            "Get:8 http://security.ubuntu.com/ubuntu bionic-security InRelease [88.7 kB]\n",
            "Get:9 http://archive.ubuntu.com/ubuntu bionic-backports InRelease [74.6 kB]\n",
            "Hit:10 http://ppa.launchpad.net/cran/libgit2/ubuntu bionic InRelease\n",
            "Get:11 https://cloud.r-project.org/bin/linux/ubuntu bionic-cran40/ Packages [90.7 kB]\n",
            "Get:12 http://ppa.launchpad.net/deadsnakes/ppa/ubuntu bionic InRelease [15.9 kB]\n",
            "Get:13 http://ppa.launchpad.net/graphics-drivers/ppa/ubuntu bionic InRelease [21.3 kB]\n",
            "Get:14 https://developer.download.nvidia.com/compute/cuda/repos/ubuntu1804/x86_64  Packages [903 kB]\n",
            "Get:16 http://ppa.launchpad.net/c2d4u.team/c2d4u4.0+/ubuntu bionic/main Sources [2,095 kB]\n",
            "Get:17 http://archive.ubuntu.com/ubuntu bionic-updates/universe amd64 Packages [2,310 kB]\n",
            "Get:18 http://archive.ubuntu.com/ubuntu bionic-updates/main amd64 Packages [3,369 kB]\n",
            "Get:19 http://archive.ubuntu.com/ubuntu bionic-updates/restricted amd64 Packages [1,141 kB]\n",
            "Get:20 http://ppa.launchpad.net/c2d4u.team/c2d4u4.0+/ubuntu bionic/main amd64 Packages [1,073 kB]\n",
            "Get:21 http://security.ubuntu.com/ubuntu bionic-security/restricted amd64 Packages [1,100 kB]\n",
            "Get:22 http://ppa.launchpad.net/deadsnakes/ppa/ubuntu bionic/main amd64 Packages [45.3 kB]\n",
            "Get:23 http://security.ubuntu.com/ubuntu bionic-security/main amd64 Packages [2,937 kB]\n",
            "Get:24 http://security.ubuntu.com/ubuntu bionic-security/universe amd64 Packages [1,533 kB]\n",
            "Get:25 http://ppa.launchpad.net/graphics-drivers/ppa/ubuntu bionic/main amd64 Packages [47.7 kB]\n",
            "Fetched 17.0 MB in 6s (2,792 kB/s)\n",
            "Reading package lists... Done\n"
          ]
        }
      ],
      "source": [
        "import os\n",
        "# Find the latest version of spark 3.0 from http://www.apache.org/dist/spark/ and enter as the spark version\n",
        "# For example:\n",
        "# spark_version = 'spark-3.0.0'\n",
        "spark_version = 'spark-3.3.0'\n",
        "os.environ['SPARK_VERSION']=spark_version\n",
        "\n",
        "# Install Spark and Java\n",
        "!apt-get update\n",
        "!apt-get install openjdk-11-jdk-headless -qq > /dev/null\n",
        "!wget -q http://www.apache.org/dist/spark/$SPARK_VERSION/$SPARK_VERSION-bin-hadoop3.tgz\n",
        "!tar xf $SPARK_VERSION-bin-hadoop3.tgz\n",
        "!pip install -q findspark\n",
        "\n",
        "# Set Environment Variables\n",
        "import os\n",
        "os.environ[\"JAVA_HOME\"] = \"/usr/lib/jvm/java-11-openjdk-amd64\"\n",
        "os.environ[\"SPARK_HOME\"] = f\"/content/{spark_version}-bin-hadoop3\"\n",
        "\n",
        "# Start a SparkSession\n",
        "import findspark\n",
        "findspark.init()"
      ]
    },
    {
      "cell_type": "code",
      "source": [
        "# Download the Postgres driver that will allow Spark to interact with Postgres.\n",
        "!wget https://jdbc.postgresql.org/download/postgresql-42.2.16.jar"
      ],
      "metadata": {
        "colab": {
          "base_uri": "https://localhost:8080/"
        },
        "id": "trsLr3fV7rcG",
        "outputId": "79e56aee-9fd0-4f99-8b71-a91e54b774b8"
      },
      "execution_count": null,
      "outputs": [
        {
          "output_type": "stream",
          "name": "stdout",
          "text": [
            "--2022-08-16 15:09:00--  https://jdbc.postgresql.org/download/postgresql-42.2.16.jar\n",
            "Resolving jdbc.postgresql.org (jdbc.postgresql.org)... 72.32.157.228, 2001:4800:3e1:1::228\n",
            "Connecting to jdbc.postgresql.org (jdbc.postgresql.org)|72.32.157.228|:443... connected.\n",
            "HTTP request sent, awaiting response... 200 OK\n",
            "Length: 1002883 (979K) [application/java-archive]\n",
            "Saving to: ‘postgresql-42.2.16.jar’\n",
            "\n",
            "\rpostgresql-42.2.16.   0%[                    ]       0  --.-KB/s               \rpostgresql-42.2.16. 100%[===================>] 979.38K  --.-KB/s    in 0.1s    \n",
            "\n",
            "2022-08-16 15:09:00 (9.30 MB/s) - ‘postgresql-42.2.16.jar’ saved [1002883/1002883]\n",
            "\n"
          ]
        }
      ]
    },
    {
      "cell_type": "code",
      "source": [
        "from pyspark.sql import SparkSession\n",
        "spark = SparkSession.builder.appName(\"TheReason\").config(\"spark.driver.extraClassPath\",\"/content/postgresql-42.2.16.jar\").getOrCreate()"
      ],
      "metadata": {
        "id": "_0WSSAy775FW"
      },
      "execution_count": null,
      "outputs": []
    },
    {
      "cell_type": "code",
      "source": [
        "from pyspark.context import SparkContext\n",
        "from pyspark.sql.session import SparkSession\n",
        "#sc = SparkContext('local')\n",
        "#spark = SparkSession(sc)\n",
        "\n",
        "from pyspark import SparkFiles\n",
        "# Import data types\n",
        "from pyspark.sql.types import *\n",
        "\n",
        "url = \"https://s3.amazonaws.com/the.chum.bucket/USvideos.csv\"\n",
        "spark.sparkContext.addFile(url)\n",
        "\n",
        "schema = StructType(\n",
        "   [StructField('video_id', StringType(), True),\n",
        "    StructField('trending_date', StringType(), True),\n",
        "    StructField('title', StringType(), True),\n",
        "    StructField('channel_title', StringType(), True),\n",
        "    StructField('category_id', IntegerType(), True),\n",
        "    StructField('publish_time', TimestampType(), True),\n",
        "    StructField('tags', StringType(), True),\n",
        "    StructField('views', IntegerType(), True),\n",
        "    StructField('likes', IntegerType(), True),\n",
        "    StructField('dislikes', IntegerType(), True),\n",
        "    StructField('comment_count', IntegerType(), True),\n",
        "    StructField('thumbnail_link', StringType(), True),\n",
        "    StructField('comments_disabled', BooleanType(), True),\n",
        "    StructField('ratings_disabled', BooleanType(), True),\n",
        "    StructField('video_error_or_removed', BooleanType(), True),\n",
        "    StructField('description', StringType(), True)\n",
        "   ]\n",
        "  )\n",
        "\n",
        "df = spark.read.option(\"header\", \"true\").schema(schema).csv(SparkFiles.get(\"\"), header=True)\n",
        "\n",
        "df.show()"
      ],
      "metadata": {
        "colab": {
          "base_uri": "https://localhost:8080/"
        },
        "id": "pIB26aTD75HF",
        "outputId": "6328fe97-aa57-4103-a306-6be4766e558b"
      },
      "execution_count": null,
      "outputs": [
        {
          "output_type": "stream",
          "name": "stdout",
          "text": [
            "+-----------+-------------+--------------------+--------------------+-----------+-------------------+--------------------+-------+------+--------+-------------+--------------------+-----------------+----------------+----------------------+--------------------+\n",
            "|   video_id|trending_date|               title|       channel_title|category_id|       publish_time|                tags|  views| likes|dislikes|comment_count|      thumbnail_link|comments_disabled|ratings_disabled|video_error_or_removed|         description|\n",
            "+-----------+-------------+--------------------+--------------------+-----------+-------------------+--------------------+-------+------+--------+-------------+--------------------+-----------------+----------------+----------------------+--------------------+\n",
            "|2kyS6SvSYSE|     17.14.11|WE WANT TO TALK A...|        CaseyNeistat|         22|2017-11-13 17:13:01|     SHANtell martin| 748374| 57527|    2966|        15954|https://i.ytimg.c...|            false|           false|                 false|SHANTELL'S CHANNE...|\n",
            "|1ZAPwfrtAFY|     17.14.11|The Trump Preside...|     LastWeekTonight|         24|2017-11-13 07:30:00|\"last week tonigh...|2418783| 97185|    6146|        12703|https://i.ytimg.c...|            false|           false|                 false|One year after th...|\n",
            "|5qpjK5DgCt4|     17.14.11|Racist Superman |...|        Rudy Mancuso|         23|2017-11-12 19:05:24|\"racist superman\"...|3191434|146033|    5339|         8181|https://i.ytimg.c...|            false|           false|                 false|WATCH MY PREVIOUS...|\n",
            "|puqaWrEC7tY|     17.14.11|Nickelback Lyrics...|Good Mythical Mor...|         24|2017-11-13 11:00:04|\"rhett and link\"|...| 343168| 10172|     666|         2146|https://i.ytimg.c...|            false|           false|                 false|Today we find out...|\n",
            "|d380meD0W0M|     17.14.11|I Dare You: GOING...|            nigahiga|         24|2017-11-12 18:01:41|\"ryan\"|\"higa\"|\"hi...|2095731|132235|    1989|        17518|https://i.ytimg.c...|            false|           false|                 false|I know it's been ...|\n",
            "|gHZ1Qz0KiKM|     17.14.11|2 Weeks with iPho...|            iJustine|         28|2017-11-13 19:07:23|\"ijustine\"|\"week ...| 119180|  9763|     511|         1434|https://i.ytimg.c...|            false|           false|                 false|Using the iPhone ...|\n",
            "|39idVpFF7NQ|     17.14.11|Roy Moore & Jeff ...| Saturday Night Live|         24|2017-11-12 05:37:17|\"SNL\"|\"Saturday N...|2103417| 15993|    2445|         1970|https://i.ytimg.c...|            false|           false|                 false|Embattled Alabama...|\n",
            "|nc99ccSXST0|     17.14.11|5 Ice Cream Gadge...|  CrazyRussianHacker|         28|2017-11-12 21:50:37|\"5 Ice Cream Gadg...| 817732| 23663|     778|         3432|https://i.ytimg.c...|            false|           false|                 false|Ice Cream Pint Co...|\n",
            "|jr9QtXwC9vc|     17.14.11|The Greatest Show...|    20th Century Fox|          1|2017-11-13 14:00:23|\"Trailer\"|\"Hugh J...| 826059|  3543|     119|          340|https://i.ytimg.c...|            false|           false|                 false|Inspired by the i...|\n",
            "|TUmyygCMMGA|     17.14.11|Why the rise of t...|                 Vox|         25|2017-11-13 13:45:16|\"vox.com\"|\"vox\"|\"...| 256426| 12654|    1363|         2368|https://i.ytimg.c...|            false|           false|                 false|For now, at least...|\n",
            "|9wRQljFNDW8|     17.14.11|Dion Lewis' 103-Y...|                 NFL|         17|2017-11-13 02:05:26|\"NFL\"|\"Football\"|...|  81377|   655|      25|          177|https://i.ytimg.c...|            false|           false|                 false|New England Patri...|\n",
            "|VifQlJit6A0|     17.14.11|(SPOILERS) 'Shiva...|                 amc|         24|2017-11-13 03:00:00|\"The Walking Dead...| 104578|  1576|     303|         1279|https://i.ytimg.c...|            false|           false|                 false|Shiva arrives jus...|\n",
            "|5E4ZBSInqUU|     17.14.11|Marshmello - Bloc...|          marshmello|         10|2017-11-13 17:00:00|\"marshmello\"|\"blo...| 687582|114188|    1333|         8371|https://i.ytimg.c...|            false|           false|                 false|WATCH SILENCE MUS...|\n",
            "|GgVmn66oK_A|     17.14.11|Which Countries A...|       NowThis World|         25|2017-11-12 14:00:00|\"nowthis\"|\"nowthi...| 544770|  7848|    1171|         3981|https://i.ytimg.c...|            false|           false|                 false|The world at larg...|\n",
            "|TaTleo4cOs8|     17.14.11|SHOPPING FOR NEW ...|     The king of DIY|         15|2017-11-12 18:30:01|\"shopping for new...| 207532|  7473|     246|         2120|https://i.ytimg.c...|            false|           false|                 false|Today we go shopp...|\n",
            "|kgaO45SyaO4|     17.14.11|    The New SpotMini|      BostonDynamics|         28|2017-11-13 20:09:58|\"Robots\"|\"Boston ...|  75752|  9419|      52|         1230|https://i.ytimg.c...|            false|           false|                 false|For more informat...|\n",
            "|ZAQs-ctOqXQ|     17.14.11|One Change That W...|             Cracked|         23|2017-11-12 17:00:05|\"pacific rim\"|\"pa...| 295639|  8011|     638|         1256|https://i.ytimg.c...|            false|           false|                 false|Pacific Rim was s...|\n",
            "|YVfyYrEmzgM|     17.14.11|How does your bod...|              TED-Ed|         27|2017-11-13 16:00:07|\"TED\"|\"TED-Ed\"|\"T...|  78044|  5398|      53|          385|https://i.ytimg.c...|            false|           false|                 false|Check out our Pat...|\n",
            "|eNSN6qet1kE|     17.14.11|HomeMade Electric...|         PeterSripol|         28|2017-11-13 15:30:17|\"ultralight\"|\"air...|  97007| 11963|      36|         2211|https://i.ytimg.c...|            false|           false|                 false|aaaannnd now to f...|\n",
            "|B5HORANmzHw|     17.14.11|Founding An Inbre...|             SciShow|         27|2017-11-12 22:00:01|\"SciShow\"|\"scienc...| 223871|  8421|     191|         1214|https://i.ytimg.c...|            false|           false|                 false|Thanks to 23AndMe...|\n",
            "+-----------+-------------+--------------------+--------------------+-----------+-------------------+--------------------+-------+------+--------+-------------+--------------------+-----------------+----------------+----------------------+--------------------+\n",
            "only showing top 20 rows\n",
            "\n"
          ]
        }
      ]
    },
    {
      "cell_type": "code",
      "source": [
        "trending_df = df.select([\"category_id\", \"views\", \"likes\", \"dislikes\", \"comment_count\", \"channel_title\", \"publish_time\", \"trending_date\"])\n",
        "trending_df.show()"
      ],
      "metadata": {
        "colab": {
          "base_uri": "https://localhost:8080/"
        },
        "id": "eyxrr5M2BLMT",
        "outputId": "65f1759e-37e9-445c-e0bd-c5e672b4d769"
      },
      "execution_count": null,
      "outputs": [
        {
          "output_type": "stream",
          "name": "stdout",
          "text": [
            "+-----------+-------+------+--------+-------------+--------------------+-------------------+-------------+\n",
            "|category_id|  views| likes|dislikes|comment_count|       channel_title|       publish_time|trending_date|\n",
            "+-----------+-------+------+--------+-------------+--------------------+-------------------+-------------+\n",
            "|         22| 748374| 57527|    2966|        15954|        CaseyNeistat|2017-11-13 17:13:01|     17.14.11|\n",
            "|         24|2418783| 97185|    6146|        12703|     LastWeekTonight|2017-11-13 07:30:00|     17.14.11|\n",
            "|         23|3191434|146033|    5339|         8181|        Rudy Mancuso|2017-11-12 19:05:24|     17.14.11|\n",
            "|         24| 343168| 10172|     666|         2146|Good Mythical Mor...|2017-11-13 11:00:04|     17.14.11|\n",
            "|         24|2095731|132235|    1989|        17518|            nigahiga|2017-11-12 18:01:41|     17.14.11|\n",
            "|         28| 119180|  9763|     511|         1434|            iJustine|2017-11-13 19:07:23|     17.14.11|\n",
            "|         24|2103417| 15993|    2445|         1970| Saturday Night Live|2017-11-12 05:37:17|     17.14.11|\n",
            "|         28| 817732| 23663|     778|         3432|  CrazyRussianHacker|2017-11-12 21:50:37|     17.14.11|\n",
            "|          1| 826059|  3543|     119|          340|    20th Century Fox|2017-11-13 14:00:23|     17.14.11|\n",
            "|         25| 256426| 12654|    1363|         2368|                 Vox|2017-11-13 13:45:16|     17.14.11|\n",
            "|         17|  81377|   655|      25|          177|                 NFL|2017-11-13 02:05:26|     17.14.11|\n",
            "|         24| 104578|  1576|     303|         1279|                 amc|2017-11-13 03:00:00|     17.14.11|\n",
            "|         10| 687582|114188|    1333|         8371|          marshmello|2017-11-13 17:00:00|     17.14.11|\n",
            "|         25| 544770|  7848|    1171|         3981|       NowThis World|2017-11-12 14:00:00|     17.14.11|\n",
            "|         15| 207532|  7473|     246|         2120|     The king of DIY|2017-11-12 18:30:01|     17.14.11|\n",
            "|         28|  75752|  9419|      52|         1230|      BostonDynamics|2017-11-13 20:09:58|     17.14.11|\n",
            "|         23| 295639|  8011|     638|         1256|             Cracked|2017-11-12 17:00:05|     17.14.11|\n",
            "|         27|  78044|  5398|      53|          385|              TED-Ed|2017-11-13 16:00:07|     17.14.11|\n",
            "|         28|  97007| 11963|      36|         2211|         PeterSripol|2017-11-13 15:30:17|     17.14.11|\n",
            "|         27| 223871|  8421|     191|         1214|             SciShow|2017-11-12 22:00:01|     17.14.11|\n",
            "+-----------+-------+------+--------+-------------+--------------------+-------------------+-------------+\n",
            "only showing top 20 rows\n",
            "\n"
          ]
        }
      ]
    },
    {
      "cell_type": "code",
      "source": [
        "# Store environmental variable\n",
        "from getpass import getpass\n",
        "password = getpass('Enter database password')\n",
        "\n",
        "# Configure settings for RDS\n",
        "mode = \"append\"\n",
        "jdbc_url=\"jdbc:postgresql://the-reason.cklnwcyuqruo.us-east-1.rds.amazonaws.com/postgres\"\n",
        "config = {\"user\":\"postgres\",\n",
        "          \"password\": password,\n",
        "          \"driver\":\"org.postgresql.Driver\"}"
      ],
      "metadata": {
        "id": "OrcYb4WWOp38",
        "colab": {
          "base_uri": "https://localhost:8080/"
        },
        "outputId": "6eb9de7f-a65c-40fe-d851-5b3174078e0b"
      },
      "execution_count": null,
      "outputs": [
        {
          "name": "stdout",
          "output_type": "stream",
          "text": [
            "Enter database password··········\n"
          ]
        }
      ]
    },
    {
      "cell_type": "code",
      "source": [
        "# Write trending_df to table in RDS\n",
        "trending_df.write.jdbc(url=jdbc_url, table='youtube_analysis', mode=mode, properties=config)"
      ],
      "metadata": {
        "id": "10XVeqPKPJOt"
      },
      "execution_count": 34,
      "outputs": []
    }
  ]
}