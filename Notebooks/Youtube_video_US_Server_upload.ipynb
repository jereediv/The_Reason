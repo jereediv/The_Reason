{
  "nbformat": 4,
  "nbformat_minor": 0,
  "metadata": {
    "colab": {
      "name": "Youtube_video_US_Server_upload.ipynb",
      "provenance": [],
      "collapsed_sections": []
    },
    "kernelspec": {
      "name": "python3",
      "display_name": "Python 3"
    },
    "language_info": {
      "name": "python"
    }
  },
  "cells": [
    {
      "cell_type": "code",
      "execution_count": 1,
      "metadata": {
        "colab": {
          "base_uri": "https://localhost:8080/"
        },
        "id": "kMI1m_3vgFZy",
        "outputId": "dac64a82-1628-41d2-f7a3-ff7e4df60215"
      },
      "outputs": [
        {
          "output_type": "stream",
          "name": "stdout",
          "text": [
            "Get:1 https://cloud.r-project.org/bin/linux/ubuntu bionic-cran40/ InRelease [3,626 B]\n",
            "Ign:2 https://developer.download.nvidia.com/compute/machine-learning/repos/ubuntu1804/x86_64  InRelease\n",
            "Get:3 https://developer.download.nvidia.com/compute/cuda/repos/ubuntu1804/x86_64  InRelease [1,581 B]\n",
            "Hit:4 https://developer.download.nvidia.com/compute/machine-learning/repos/ubuntu1804/x86_64  Release\n",
            "Get:5 http://security.ubuntu.com/ubuntu bionic-security InRelease [88.7 kB]\n",
            "Get:6 https://developer.download.nvidia.com/compute/cuda/repos/ubuntu1804/x86_64  Packages [910 kB]\n",
            "Hit:7 http://archive.ubuntu.com/ubuntu bionic InRelease\n",
            "Get:8 http://ppa.launchpad.net/c2d4u.team/c2d4u4.0+/ubuntu bionic InRelease [15.9 kB]\n",
            "Get:9 http://archive.ubuntu.com/ubuntu bionic-updates InRelease [88.7 kB]\n",
            "Hit:11 http://ppa.launchpad.net/cran/libgit2/ubuntu bionic InRelease\n",
            "Get:12 http://archive.ubuntu.com/ubuntu bionic-backports InRelease [74.6 kB]\n",
            "Hit:13 http://ppa.launchpad.net/deadsnakes/ppa/ubuntu bionic InRelease\n",
            "Get:14 http://security.ubuntu.com/ubuntu bionic-security/universe amd64 Packages [1,533 kB]\n",
            "Hit:15 http://ppa.launchpad.net/graphics-drivers/ppa/ubuntu bionic InRelease\n",
            "Get:16 http://ppa.launchpad.net/c2d4u.team/c2d4u4.0+/ubuntu bionic/main Sources [2,095 kB]\n",
            "Get:17 http://archive.ubuntu.com/ubuntu bionic-updates/main amd64 Packages [3,369 kB]\n",
            "Get:18 http://security.ubuntu.com/ubuntu bionic-security/main amd64 Packages [2,937 kB]\n",
            "Get:19 http://archive.ubuntu.com/ubuntu bionic-updates/universe amd64 Packages [2,311 kB]\n",
            "Get:20 http://ppa.launchpad.net/c2d4u.team/c2d4u4.0+/ubuntu bionic/main amd64 Packages [1,073 kB]\n",
            "Fetched 14.5 MB in 7s (2,163 kB/s)\n",
            "Reading package lists... Done\n"
          ]
        }
      ],
      "source": [
        "import os\n",
        "# Find the latest version of spark 3.0 from http://www.apache.org/dist/spark/ and enter as the spark version\n",
        "# For example:\n",
        "# spark_version = 'spark-3.0.0'\n",
        "spark_version = 'spark-3.3.0'\n",
        "os.environ['SPARK_VERSION']=spark_version\n",
        "\n",
        "# Install Spark and Java\n",
        "!apt-get update\n",
        "!apt-get install openjdk-11-jdk-headless -qq > /dev/null\n",
        "!wget -q http://www.apache.org/dist/spark/$SPARK_VERSION/$SPARK_VERSION-bin-hadoop3.tgz\n",
        "!tar xf $SPARK_VERSION-bin-hadoop3.tgz\n",
        "!pip install -q findspark\n",
        "\n",
        "# Set Environment Variables\n",
        "import os\n",
        "os.environ[\"JAVA_HOME\"] = \"/usr/lib/jvm/java-11-openjdk-amd64\"\n",
        "os.environ[\"SPARK_HOME\"] = f\"/content/{spark_version}-bin-hadoop3\"\n",
        "\n",
        "# Start a SparkSession\n",
        "import findspark\n",
        "findspark.init()"
      ]
    },
    {
      "cell_type": "code",
      "source": [
        "# Download the Postgres driver that will allow Spark to interact with Postgres.\n",
        "!wget https://jdbc.postgresql.org/download/postgresql-42.2.16.jar"
      ],
      "metadata": {
        "colab": {
          "base_uri": "https://localhost:8080/"
        },
        "id": "OEaX6fsVgP7C",
        "outputId": "8058b43a-86e8-4674-b929-f1da59f4fedf"
      },
      "execution_count": 2,
      "outputs": [
        {
          "output_type": "stream",
          "name": "stdout",
          "text": [
            "--2022-08-24 00:31:09--  https://jdbc.postgresql.org/download/postgresql-42.2.16.jar\n",
            "Resolving jdbc.postgresql.org (jdbc.postgresql.org)... 72.32.157.228, 2001:4800:3e1:1::228\n",
            "Connecting to jdbc.postgresql.org (jdbc.postgresql.org)|72.32.157.228|:443... connected.\n",
            "HTTP request sent, awaiting response... 200 OK\n",
            "Length: 1002883 (979K) [application/java-archive]\n",
            "Saving to: ‘postgresql-42.2.16.jar’\n",
            "\n",
            "postgresql-42.2.16. 100%[===================>] 979.38K  1.17MB/s    in 0.8s    \n",
            "\n",
            "2022-08-24 00:31:11 (1.17 MB/s) - ‘postgresql-42.2.16.jar’ saved [1002883/1002883]\n",
            "\n"
          ]
        }
      ]
    },
    {
      "cell_type": "code",
      "source": [
        "from pyspark.sql import SparkSession\n",
        "spark = SparkSession.builder.appName(\"TheReason\").config(\"spark.driver.extraClassPath\",\"/content/postgresql-42.2.16.jar\").getOrCreate()"
      ],
      "metadata": {
        "id": "9xfrcEnpgSOy"
      },
      "execution_count": 8,
      "outputs": []
    },
    {
      "cell_type": "code",
      "source": [
        "from pyspark.context import SparkContext\n",
        "from pyspark.sql.session import SparkSession\n",
        "#sc = SparkContext('local')\n",
        "#spark = SparkSession(sc)\n",
        "\n",
        "from pyspark import SparkFiles\n",
        "# Import data types\n",
        "from pyspark.sql.types import *\n",
        "\n",
        "url = \"https://s3.amazonaws.com/the.chum.bucket/US_Regressor_sample.csv\"\n",
        "spark.sparkContext.addFile(url)\n",
        "\n",
        "schema = StructType(\n",
        "   [StructField('category_id', StringType(), True),\n",
        "    StructField('views', IntegerType(), True),\n",
        "    StructField('comments_disabled', StringType(), True),\n",
        "    StructField('ratings_disabled', StringType(), True),\n",
        "    StructField('channel_text', StringType(), True),\n",
        "    StructField('difference_d', IntegerType(), True),\n",
        "    StructField('difference_h', IntegerType(), True),\n",
        "    StructField('published_year', DateType(), True),\n",
        "    StructField('published_month', DateType(), True),\n",
        "    StructField('trending_year', DateType(), True),\n",
        "    StructField('trending_month', DateType(), True),\n",
        "    ]\n",
        "  )\n",
        "\n",
        "df = spark.read.option(\"header\", \"true\").schema(schema).csv(SparkFiles.get(\"\"), header=True)\n",
        "\n",
        "df.show()"
      ],
      "metadata": {
        "colab": {
          "base_uri": "https://localhost:8080/"
        },
        "id": "Z7C3-EPXgYsD",
        "outputId": "85b4cd1f-bd27-4735-8896-bc128f0449ba"
      },
      "execution_count": 19,
      "outputs": [
        {
          "output_type": "stream",
          "name": "stdout",
          "text": [
            "+-----------+--------+-----------------+----------------+--------------------+------------+------------+--------------+---------------+-------------+--------------+\n",
            "|category_id|   views|comments_disabled|ratings_disabled|        channel_text|difference_d|difference_h|published_year|published_month|trending_year|trending_month|\n",
            "+-----------+--------+-----------------+----------------+--------------------+------------+------------+--------------+---------------+-------------+--------------+\n",
            "|         10|35374613|      \"\"\"False\"\"\"|     \"\"\"False\"\"\"|\"G-Eazy - No Limi...|        null|        null|    2017-01-01|           null|   2017-01-01|          null|\n",
            "|         22|  502185|      \"\"\"False\"\"\"|     \"\"\"False\"\"\"|\"The Greatest Tax...|        null|        null|    2017-01-01|           null|   2017-01-01|          null|\n",
            "|         10| 1006123|      \"\"\"False\"\"\"|     \"\"\"False\"\"\"|\"Ariana Grande - ...|        null|        null|    2018-01-01|           null|   2018-01-01|          null|\n",
            "|         23|  891181|      \"\"\"False\"\"\"|     \"\"\"False\"\"\"|Conan Plays Horse...|        null|        null|    2018-01-01|           null|   2018-01-01|          null|\n",
            "|         25|   85244|      \"\"\"False\"\"\"|     \"\"\"False\"\"\"|\"How ‘Garlic Girl...|        null|        null|    2018-01-01|           null|   2018-01-01|          null|\n",
            "|          1|  635048|      \"\"\"False\"\"\"|     \"\"\"False\"\"\"|\"Under the Silver...|        null|        null|    2018-01-01|           null|   2018-01-01|          null|\n",
            "|         25|  889043|      \"\"\"False\"\"\"|     \"\"\"False\"\"\"|\"Royal Wedding ar...|        null|        null|    2018-01-01|           null|   2018-01-01|          null|\n",
            "|         25|  668826|      \"\"\"False\"\"\"|     \"\"\"False\"\"\"|\"It’s not you. Ph...|        null|        null|    2018-01-01|           null|   2018-01-01|          null|\n",
            "|         28|  122459|      \"\"\"False\"\"\"|     \"\"\"False\"\"\"|\"The best places ...|        null|        null|    2018-01-01|           null|   2018-01-01|          null|\n",
            "|         26|  636525|      \"\"\"False\"\"\"|     \"\"\"False\"\"\"|\"KYLIE COSMETICS ...|        null|        null|    2018-01-01|           null|   2018-01-01|          null|\n",
            "|         26|  310602|      \"\"\"False\"\"\"|     \"\"\"False\"\"\"|\"TALK THROUGH GET...|        null|        null|    2018-01-01|           null|   2018-01-01|          null|\n",
            "|         24| 1669753|      \"\"\"False\"\"\"|     \"\"\"False\"\"\"|\"18 MILLION SUBSC...|        null|        null|    2018-01-01|           null|   2018-01-01|          null|\n",
            "|         27|  316215|      \"\"\"False\"\"\"|     \"\"\"False\"\"\"|\"How Formation Fl...|        null|        null|    2018-01-01|           null|   2018-01-01|          null|\n",
            "|         10|  758771|      \"\"\"False\"\"\"|     \"\"\"False\"\"\"|\"Avicii In Memori...|        null|        null|    2018-01-01|           null|   2018-01-01|          null|\n",
            "|         17|  364052|      \"\"\"False\"\"\"|     \"\"\"False\"\"\"|\"Every Team's Lon...|        null|        null|    2018-01-01|           null|   2018-01-01|          null|\n",
            "|         17| 1065512|       \"\"\"True\"\"\"|     \"\"\"False\"\"\"|\"LIVE 🔴 - Pyeong...|        null|        null|    2018-01-01|           null|   2018-01-01|          null|\n",
            "|         10|  841636|      \"\"\"False\"\"\"|     \"\"\"False\"\"\"|\"Kesha - Hymn (Of...|        null|        null|    2018-01-01|           null|   2018-01-01|          null|\n",
            "|         24|   95406|      \"\"\"False\"\"\"|     \"\"\"False\"\"\"|\"Flower (2018) | ...|        null|        null|    2018-01-01|           null|   2018-01-01|          null|\n",
            "|          1| 1459353|      \"\"\"False\"\"\"|     \"\"\"False\"\"\"|1st - Emma | 15 S...|        null|        null|    2017-01-01|           null|   2018-01-01|          null|\n",
            "|         23| 1105810|      \"\"\"False\"\"\"|     \"\"\"False\"\"\"|\"Types Of People ...|        null|        null|    2018-01-01|           null|   2018-01-01|          null|\n",
            "+-----------+--------+-----------------+----------------+--------------------+------------+------------+--------------+---------------+-------------+--------------+\n",
            "only showing top 20 rows\n",
            "\n"
          ]
        }
      ]
    },
    {
      "cell_type": "code",
      "source": [
        ""
      ],
      "metadata": {
        "id": "jM8pS2QLmPeB"
      },
      "execution_count": null,
      "outputs": []
    },
    {
      "cell_type": "code",
      "source": [
        "# Store environmental variable\n",
        "from getpass import getpass\n",
        "password = getpass('postgres')\n",
        "\n",
        "# Configure settings for RDS\n",
        "mode = \"append\"\n",
        "jdbc_url=\"jdbc:postgresql://the-reason.cklnwcyuqruo.us-east-1.rds.amazonaws.com/The_Reason\"\n",
        "config = {\"user\":\"postgres\",\n",
        "          \"password\": password,\n",
        "          \"driver\":\"org.postgresql.Driver\"}"
      ],
      "metadata": {
        "colab": {
          "base_uri": "https://localhost:8080/"
        },
        "id": "OEhz_C9fgcHR",
        "outputId": "fb9f3c8f-048c-4216-d151-902377ce469c"
      },
      "execution_count": 20,
      "outputs": [
        {
          "name": "stdout",
          "output_type": "stream",
          "text": [
            "postgres··········\n"
          ]
        }
      ]
    },
    {
      "cell_type": "code",
      "source": [
        "# Write trending_df to table in RDS\n",
        "df.write.jdbc(url=jdbc_url, table='youtube_analysis_us', mode=mode, properties=config)"
      ],
      "metadata": {
        "id": "0CrU4Y0Fgema"
      },
      "execution_count": 21,
      "outputs": []
    }
  ]
}